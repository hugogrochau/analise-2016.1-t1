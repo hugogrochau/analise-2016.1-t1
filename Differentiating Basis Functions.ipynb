{
 "cells": [
  {
   "cell_type": "markdown",
   "metadata": {},
   "source": [
    "# Analise Numerica T1 - Differentiating Basis Functions\n",
    "## Autores\n",
    "* Hugo Grochau - 1310486\n",
    "* Lorenzo Saraiva - 1110649\n",
    "\n",
    "## Livro\n",
    "https://people.csail.mit.edu/jsolomon/share/book/numerical_book.pdf\n"
   ]
  },
  {
   "cell_type": "markdown",
   "metadata": {},
   "source": [
    "## Diferenciação de funções de base\n",
    "\n",
    "O jeito mais simples de diferenciar envolve funções que são construídas usando formas de interpolação. De forma que se $f(x) = \\sum_{i} a_i \\phi_i(x)$, então pela linearidade: $f'(x) = \\sum_{i} a_i \\phi_i'(x)$.\n",
    "\n",
    "Ou seja as funções $\\phi_i'(x)$ formam uma base para derivadas de funções escritas na base $\\phi_i(x)$.\n",
    "\n",
    "## Richardson Extrapolation\n",
    "\n"
   ]
  },
  {
   "cell_type": "code",
   "execution_count": null,
   "metadata": {
    "collapsed": true
   },
   "outputs": [],
   "source": []
  },
  {
   "cell_type": "code",
   "execution_count": 47,
   "metadata": {
    "collapsed": false
   },
   "outputs": [
    {
     "name": "stdout",
     "output_type": "stream",
     "text": [
      "0.7341190590996213\n",
      "1.0767959677389378\n"
     ]
    }
   ],
   "source": [
    "import math\n",
    "\n",
    "def richardson_extrapolation(f, x, h, a):\n",
    "    def d(x, h):\n",
    "        return (f(x + h) - f(x)) / h\n",
    "    return d(x, h*a) + (d(x, h*a) - d(x,h))/3\n",
    "    \n",
    "print(richardson_extrapolation(lambda x: 5 * x * math.exp(-2 * x), 0.35, 0.01, 0.5))\n",
    "print(richardson_extrapolation(lambda x: math.sin(pow(x,2)), 1, 0.01, 0.5))"
   ]
  },
  {
   "cell_type": "code",
   "execution_count": null,
   "metadata": {
    "collapsed": true
   },
   "outputs": [],
   "source": []
  }
 ],
 "metadata": {
  "kernelspec": {
   "display_name": "Python 3",
   "language": "python",
   "name": "python3"
  },
  "language_info": {
   "codemirror_mode": {
    "name": "ipython",
    "version": 3
   },
   "file_extension": ".py",
   "mimetype": "text/x-python",
   "name": "python",
   "nbconvert_exporter": "python",
   "pygments_lexer": "ipython3",
   "version": "3.5.1"
  }
 },
 "nbformat": 4,
 "nbformat_minor": 0
}
