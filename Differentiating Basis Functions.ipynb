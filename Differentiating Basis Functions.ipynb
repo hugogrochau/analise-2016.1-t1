{
 "cells": [
  {
   "cell_type": "markdown",
   "metadata": {},
   "source": [
    "# Analise Numerica T1 - Differentiating Basis Functions\n",
    "## Autores\n",
    "* Hugo Grochau - 1310486\n",
    "* Lorenzo Saraiva - 1110649\n",
    "\n",
    "## Livro\n",
    "https://people.csail.mit.edu/jsolomon/share/book/numerical_book.pdf\n"
   ]
  },
  {
   "cell_type": "markdown",
   "metadata": {},
   "source": [
    "## Diferenciação de funções de base\n",
    "\n",
    "O jeito mais simples de diferenciar envolve funções que são construídas usando formas de interpolação. De forma que se $f(x) = \\sum_{i} a_i \\phi_i(x)$, então pela linearidade: $f'(x) = \\sum_{i} a_i \\phi_i'(x)$.\n",
    "\n",
    "Ou seja as funções $\\phi_i'(x)$ formam uma base para derivadas de funções escritas na base $\\phi_i(x)$.\n",
    "\n",
    "## Richardson Extrapolation\n",
    "\n"
   ]
  },
  {
   "cell_type": "code",
   "execution_count": null,
   "metadata": {
    "collapsed": true
   },
   "outputs": [],
   "source": []
  },
  {
   "cell_type": "code",
   "execution_count": 47,
   "metadata": {
    "collapsed": false
   },
   "outputs": [
    {
     "name": "stdout",
     "output_type": "stream",
     "text": [
      "0.7341190590996213\n",
      "1.0767959677389378\n"
     ]
    }
   ],
   "source": [
    "import math\n",
    "\n",
    "def richardson_extrapolation(f, x, h, a):\n",
    "    def d(x, h):\n",
    "        return (f(x + h) - f(x)) / h\n",
    "    return d(x, h*a) + (d(x, h*a) - d(x,h))/3\n",
    "    \n",
    "print(richardson_extrapolation(lambda x: 5 * x * math.exp(-2 * x), 0.35, 0.01, 0.5))\n",
    "print(richardson_extrapolation(lambda x: math.sin(pow(x,2)), 1, 0.01, 0.5))"
   ]
  },
  {
   "cell_type": "code",
   "execution_count": 67,
   "metadata": {
    "collapsed": false
   },
   "outputs": [
    {
     "name": "stdout",
     "output_type": "stream",
     "text": [
      "0.7129779092982291\n",
      "1.0689369475964217\n",
      "0.7447703622024774\n",
      "1.0767959677389378\n"
     ]
    }
   ],
   "source": [
    "import math\n",
    "import numpy\n",
    "\n",
    "def finite_differences(f, x, h):\n",
    "        return (f(x + h) - f(x)) / h\n",
    "\n",
    "\n",
    "print(finite_differences(lambda x: 5 * x * math.exp(-2 * x), 0.35, 0.01))\n",
    "print(finite_differences(lambda x: math.sin(pow(x,2)), 1, 0.01))\n",
    "print(richardson_extrapolation(lambda x: 5 * x * math.exp(-2 * x), 0.35, 0.0001, 0.5))\n",
    "print(richardson_extrapolation(lambda x: math.sin(pow(x,2)), 1, 0.01, 0.5))"
   ]
  },
  {
   "cell_type": "code",
   "execution_count": 70,
   "metadata": {
    "collapsed": false
   },
   "outputs": [
    {
     "name": "stdout",
     "output_type": "stream",
     "text": [
      "10 10\n",
      "0.7129779092982291\n",
      "1.0689369475964217\n",
      "0.7447703622024774\n",
      "1.0767959677389378\n"
     ]
    }
   ],
   "source": [
    "import math\n",
    "import numpy\n",
    "\n",
    "class derivateTuple:\n",
    "    def __init__(self, main, derivate):\n",
    "            self.m = main\n",
    "            self.d = derivate\n",
    "    def derivateSum(dt1,dt2):\n",
    "        return derivateTuple(dt1.m + dt2.m, dt1.d + dt2.d)\n",
    "    \n",
    "    def constantMult(dt,c):\n",
    "        return derivateTuple(c*dt.m, c*dt.d)\n",
    "    \n",
    "    def derivateMult(dt1,dt2):\n",
    "        return derivateTuple(dt1.m * dt2.m, (dt1.m*dt2.d) + (dt1.d * dt2.m))\n",
    "    \n",
    "    def derivateDiv(dt1,dt2):\n",
    "        return derivateTuple(dt1.m/dt2.m, (dt2.m * dt1.d) - (dt1.m * dt2.d)/(dt2.m*dt2.m))\n",
    "    \n",
    "    def derivateExp(dt):\n",
    "        return derivativeTuple(math.exp(dt.m), dt.d * math.exp(dt.m))\n",
    "    \n",
    "    def derivateLn(dt):\n",
    "        return derivativeTuple(math.log(dt.m, dt.d/dt.m))\n",
    "    \n",
    "    def derivateCos(dt):\n",
    "        return derivativeTuple(math.cos(dt.m), -dt.d * math.sin(dt.m))\n",
    "    \n",
    "    def derivateSen(dt):\n",
    "        return derivativeTuple(math.sen(dt.m), dt.d * math.cos(dt.m))\n",
    "\n",
    "        \n",
    "    \n",
    "        \n",
    "def autodiff(f, x, h):\n",
    "        f(dt)\n",
    "        return 0\n",
    "\n",
    "print(autodiff(lambda x: derivativeTuple.derivateSen())\n",
    "print(finite_differences(lambda x: 5 * x * math.exp(-2 * x), 0.35, 0.01))\n",
    "print(finite_differences(lambda x: math.sin(pow(x,2)), 1, 0.01))\n",
    "print(richardson_extrapolation(lambda x: 5 * x * math.exp(-2 * x), 0.35, 0.0001, 0.5))\n",
    "print(richardson_extrapolation(lambda x: math.sin(pow(x,2)), 1, 0.01, 0.5))"
   ]
  },
  {
   "cell_type": "code",
   "execution_count": null,
   "metadata": {
    "collapsed": true
   },
   "outputs": [],
   "source": []
  }
 ],
 "metadata": {
  "kernelspec": {
   "display_name": "Python 3",
   "language": "python",
   "name": "python3"
  },
  "language_info": {
   "codemirror_mode": {
    "name": "ipython",
    "version": 3
   },
   "file_extension": ".py",
   "mimetype": "text/x-python",
   "name": "python",
   "nbconvert_exporter": "python",
   "pygments_lexer": "ipython3",
   "version": "3.5.1"
  }
 },
 "nbformat": 4,
 "nbformat_minor": 0
}
